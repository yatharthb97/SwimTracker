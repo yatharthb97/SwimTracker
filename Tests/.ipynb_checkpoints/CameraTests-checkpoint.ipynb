{
 "cells": [
  {
   "cell_type": "code",
   "execution_count": null,
   "id": "d070f77a",
   "metadata": {},
   "outputs": [],
   "source": [
    "# import libraries\n",
    "from time import sleep          # For timing operations - sleep, delay, etc\n",
    "from picamera import PiCamera   # For controlling the camera\n",
    "import matplotlib.pyplot as plt # Plotting library (also used for displaying images)\n"
   ]
  },
  {
   "cell_type": "code",
   "execution_count": null,
   "id": "3ee39409",
   "metadata": {},
   "outputs": [],
   "source": [
    "# Create the camera object\n",
    "camera = PiCamera()\n",
    "camera.resolution = (1024, 768)\n"
   ]
  },
  {
   "cell_type": "code",
   "execution_count": null,
   "id": "3de0e976",
   "metadata": {},
   "outputs": [],
   "source": [
    "# Capture an image and show it\n",
    "filename = \"test_image.jpeg\"\n",
    "camera.capture(filename)\n",
    "plt.imshow(filename)"
   ]
  },
  {
   "cell_type": "code",
   "execution_count": null,
   "id": "5e4c7c5c",
   "metadata": {},
   "outputs": [],
   "source": [
    "# Generating a timelapse of 10 images - Part 1\n",
    "camera.framerate=30\n",
    "filename_list = [f'sequence_no{i}.jpg' for i in range(10)]\n",
    "print(filename_list)"
   ]
  },
  {
   "cell_type": "code",
   "execution_count": null,
   "id": "6cd6aea2",
   "metadata": {},
   "outputs": [],
   "source": [
    "# Generating a timelapse of 10 images - Part 1\n",
    "for filename in camera.capture_continuous(filename_list)::\n",
    "    print(f'Captured: {filename})\n",
    "    sleep(30) # wait 0.5 minutes\n",
    "          \n",
    "# Show 10 images\n",
    "for i in range(10):\n",
    "    plt.imshow(filename_list[i])"
   ]
  },
  {
   "cell_type": "code",
   "execution_count": null,
   "id": "5d8f3370",
   "metadata": {},
   "outputs": [],
   "source": [
    "# Record a video and preview it\n",
    "camera.resolution = (640, 480)                              # For better performance\n",
    "record_duration_s = 60                                      # Record for 60 seconds\n",
    "camera.start_recording('test_video.mjpeg', format=\"mjpeg\")  # Start recording\n",
    "camera.wait_recording(record_duration_s)                    # Wait for while the camera records\n",
    "camera.stop_recording()                                     # Stop the camera"
   ]
  },
  {
   "cell_type": "code",
   "execution_count": null,
   "id": "bd4115a2",
   "metadata": {},
   "outputs": [],
   "source": [
    "# How many frames have we recorded?\n",
    "no_frames = camera.framerate * record_duration_s\n",
    "print(f\"Recorded frames:{no_frames}\")"
   ]
  },
  {
   "cell_type": "code",
   "execution_count": null,
   "id": "4a335c5a",
   "metadata": {},
   "outputs": [],
   "source": [
    "# Play the video on vlc\n",
    "# You can vary the `mjpeg-fps` parameter top speed-up or slowdown the video.\n",
    "!vlc --demux=mjpeg --mjpeg-fps=5 'test_video.mjpeg'"
   ]
  },
  {
   "cell_type": "code",
   "execution_count": null,
   "id": "1a1742be",
   "metadata": {},
   "outputs": [],
   "source": [
    "# Good practice to release the resource when you are done.\n",
    "camera.close()"
   ]
  },
  {
   "cell_type": "code",
   "execution_count": null,
   "id": "dc115ce8",
   "metadata": {},
   "outputs": [],
   "source": []
  }
 ],
 "metadata": {
  "kernelspec": {
   "display_name": "swim",
   "language": "python",
   "name": "swim"
  },
  "language_info": {
   "codemirror_mode": {
    "name": "ipython",
    "version": 3
   },
   "file_extension": ".py",
   "mimetype": "text/x-python",
   "name": "python",
   "nbconvert_exporter": "python",
   "pygments_lexer": "ipython3",
   "version": "3.8.13"
  }
 },
 "nbformat": 4,
 "nbformat_minor": 5
}
