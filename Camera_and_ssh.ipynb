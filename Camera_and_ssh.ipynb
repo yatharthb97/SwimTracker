{
 "cells": [
  {
   "cell_type": "markdown",
   "id": "895b42a4",
   "metadata": {},
   "source": [
    "## SSH Server + Camera Tests\n",
    "\n",
    "+ Setup SSH on Raspberry Pi and run jupyter\n",
    "    * https://towardsdatascience.com/raspberry-pi-tutorial-on-hosting-a-jupyter-notebook-that-you-can-access-anywhere-32191f882b1f\n",
    "+ Picamera setup and photocapture + display\n",
    "+ "
   ]
  },
  {
   "cell_type": "code",
   "execution_count": 8,
   "id": "e2893e87",
   "metadata": {},
   "outputs": [],
   "source": [
    "\n",
    "from IPython.display import display\n",
    "import ipywidgets as widgets"
   ]
  },
  {
   "cell_type": "code",
   "execution_count": 9,
   "id": "c7eb1a87",
   "metadata": {},
   "outputs": [
    {
     "data": {
      "application/vnd.jupyter.widget-view+json": {
       "model_id": "cb9eba30f5e84d5f9589a26e6bc347af",
       "version_major": 2,
       "version_minor": 0
      },
      "text/plain": [
       "Video(value=b'\\x00\\x00\\x00\\x01\\'d\\x00(\\xac+@<\\x01\\x13\\xf2\\xc2\\x00\\x00\\x03\\x00\\x02\\x00\\x00\\x03\\x00y\\xc9@\\x00LK\\…"
      ]
     },
     "metadata": {},
     "output_type": "display_data"
    }
   ],
   "source": [
    "vidpreview = widgets.Video.from_file(\"/Users/byatharth/code/SwimmingAlgaeVideos/CanSeeTwoOrThreePart.h264\")\n",
    "vidpreview"
   ]
  },
  {
   "cell_type": "code",
   "execution_count": null,
   "id": "70e84d4f",
   "metadata": {},
   "outputs": [],
   "source": [
    "# h264: doesnt play with ipywidgets\n",
    "# mjpeg: \n",
    "\n",
    "!/Applications/VLC.app/Contents/MacOS/VLC --demux=mjpeg --mjpeg-fps=5 \"/Users/byatharth/code/SwimmingAlgaeVideos/Videos-Batch1/test_many_12mp_30000.mjpeg\""
   ]
  },
  {
   "cell_type": "code",
   "execution_count": 13,
   "id": "910795a4",
   "metadata": {},
   "outputs": [
    {
     "name": "stdout",
     "output_type": "stream",
     "text": [
      "VLC media player 3.0.17.3 Vetinari (revision 3.0.17.3-0-g426513d88e)\n",
      "[\u001b[32;1m00007fc101704a50\u001b[0m] main libvlc: \u001b[0;1mRunning vlc with the default interface. Use 'cvlc' to use vlc without interface.\u001b[0m\n",
      "[\u001b[32;1m00007fc1020ceae0\u001b[0m] videotoolbox decoder: \u001b[0;1mUsing Video Toolbox to decode 'h264'\u001b[0m\n",
      "[\u001b[32;1m00007fc1020ceae0\u001b[0m] videotoolbox decoder: \u001b[0;1mvt cvpx chroma: 420v\u001b[0m\n",
      "2022-09-05 19:34:36.129 VLC[15146:244593] Can't find app with identifier com.apple.iTunes\n",
      "2022-09-05 19:34:36.174 VLC[15146:244593] Can't find app with identifier com.spotify.client\n",
      "2022-09-05 19:34:36.234 VLC[15146:244593] Can't find app with identifier com.apple.iTunes\n",
      "2022-09-05 19:34:36.265 VLC[15146:244593] Can't find app with identifier com.spotify.client\n"
     ]
    }
   ],
   "source": [
    "!/Applications/VLC.app/Contents/MacOS/VLC \"/Users/byatharth/Desktop/movie.mp4\""
   ]
  },
  {
   "cell_type": "code",
   "execution_count": null,
   "id": "6351d011",
   "metadata": {},
   "outputs": [],
   "source": []
  }
 ],
 "metadata": {
  "kernelspec": {
   "display_name": "swim",
   "language": "python",
   "name": "swim"
  },
  "language_info": {
   "codemirror_mode": {
    "name": "ipython",
    "version": 3
   },
   "file_extension": ".py",
   "mimetype": "text/x-python",
   "name": "python",
   "nbconvert_exporter": "python",
   "pygments_lexer": "ipython3",
   "version": "3.8.13"
  }
 },
 "nbformat": 4,
 "nbformat_minor": 5
}
